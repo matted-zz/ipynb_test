{
 "cells": [
  {
   "cell_type": "markdown",
   "metadata": {},
   "source": [
    "Basic example of testing the significance of an overlap between two samples from a set of labeled instances.\n",
    "\n",
    "See also: http://stats.stackexchange.com/questions/31633/is-the-overlap-between-two-gene-expression-samples-significant."
   ]
  },
  {
   "cell_type": "code",
   "execution_count": 3,
   "metadata": {
    "collapsed": true
   },
   "outputs": [],
   "source": [
    "import numpy, scipy.stats"
   ]
  },
  {
   "cell_type": "code",
   "execution_count": 279,
   "metadata": {
    "collapsed": true
   },
   "outputs": [],
   "source": [
    "overlap = 3 # overlap between A and B\n",
    "sigA = 56 # total number of significant samples in experiment A\n",
    "sigB = 298 # total number of significant samples in experiment B\n",
    "total = 4629 # total number of entities that could be observed"
   ]
  },
  {
   "cell_type": "code",
   "execution_count": 280,
   "metadata": {
    "collapsed": false
   },
   "outputs": [],
   "source": [
    "table = [[overlap, sigA - overlap], [sigB - overlap, total - sigB - sigA + overlap]]\n",
    "table = numpy.array(table)\n",
    "# print table\n",
    "# df.values.sum()"
   ]
  },
  {
   "cell_type": "code",
   "execution_count": 281,
   "metadata": {
    "collapsed": false
   },
   "outputs": [
    {
     "data": {
      "text/html": [
       "<div style=\"max-height:1000px;max-width:1500px;overflow:auto;\">\n",
       "<table border=\"1\" class=\"dataframe\">\n",
       "  <thead>\n",
       "    <tr style=\"text-align: right;\">\n",
       "      <th></th>\n",
       "      <th>sig. in A</th>\n",
       "      <th>not sig. in A</th>\n",
       "    </tr>\n",
       "  </thead>\n",
       "  <tbody>\n",
       "    <tr>\n",
       "      <th>sig. in B</th>\n",
       "      <td>   3</td>\n",
       "      <td>   53</td>\n",
       "    </tr>\n",
       "    <tr>\n",
       "      <th>not sig. in B</th>\n",
       "      <td> 295</td>\n",
       "      <td> 4278</td>\n",
       "    </tr>\n",
       "  </tbody>\n",
       "</table>\n",
       "</div>"
      ],
      "text/plain": [
       "               sig. in A  not sig. in A\n",
       "sig. in B              3             53\n",
       "not sig. in B        295           4278"
      ]
     },
     "execution_count": 281,
     "metadata": {},
     "output_type": "execute_result"
    }
   ],
   "source": [
    "import pandas\n",
    "df = pandas.DataFrame(table, columns=[\"sig. in A\", \"not sig. in A\"], index=[\"sig. in B\", \"not sig. in B\"])\n",
    "df"
   ]
  },
  {
   "cell_type": "code",
   "execution_count": 282,
   "metadata": {
    "collapsed": false
   },
   "outputs": [
    {
     "data": {
      "text/html": [
       "<div style=\"max-height:1000px;max-width:1500px;overflow:auto;\">\n",
       "<table border=\"1\" class=\"dataframe\">\n",
       "  <thead>\n",
       "    <tr style=\"text-align: right;\">\n",
       "      <th></th>\n",
       "      <th>p-value (overlap greater than chance)</th>\n",
       "    </tr>\n",
       "  </thead>\n",
       "  <tbody>\n",
       "    <tr>\n",
       "      <th>Fisher's exact test</th>\n",
       "      <td> 0.709269</td>\n",
       "    </tr>\n",
       "    <tr>\n",
       "      <th>Chi$^2$ test</th>\n",
       "      <td> 0.954088</td>\n",
       "    </tr>\n",
       "  </tbody>\n",
       "</table>\n",
       "</div>"
      ],
      "text/plain": [
       "                     p-value (overlap greater than chance)\n",
       "Fisher's exact test                               0.709269\n",
       "Chi$^2$ test                                      0.954088"
      ]
     },
     "execution_count": 282,
     "metadata": {},
     "output_type": "execute_result"
    }
   ],
   "source": [
    "odds_ratio, pval1 = scipy.stats.fisher_exact(table, alternative=\"greater\")\n",
    "ignored, pval2, ignored, ignored = scipy.stats.contingency.chi2_contingency(table)\n",
    "\n",
    "temp = pandas.DataFrame([pval1, pval2], columns=[\"p-value (overlap greater than chance)\"], index=[\"Fisher's exact test\", \"Chi$^2$ test\"])\n",
    "temp"
   ]
  },
  {
   "cell_type": "markdown",
   "metadata": {},
   "source": [
    "## For large counts, the exact test and the chi-square test will be very close."
   ]
  },
  {
   "cell_type": "code",
   "execution_count": 198,
   "metadata": {
    "collapsed": false
   },
   "outputs": [],
   "source": []
  },
  {
   "cell_type": "code",
   "execution_count": null,
   "metadata": {
    "collapsed": true
   },
   "outputs": [],
   "source": []
  }
 ],
 "metadata": {
  "kernelspec": {
   "display_name": "IPython (Python 2)",
   "name": "python2"
  },
  "language_info": {
   "codemirror_mode": {
    "name": "ipython",
    "version": 2
   },
   "file_extension": ".py",
   "mimetype": "text/x-python",
   "name": "python",
   "nbconvert_exporter": "python",
   "pygments_lexer": "ipython2"
  },
  "signature": "sha256:043a18797e60b19ff03fdfa81492fa81478249375c420a58d7b0627dae960e62"
 },
 "nbformat": 4,
 "nbformat_minor": 0
}